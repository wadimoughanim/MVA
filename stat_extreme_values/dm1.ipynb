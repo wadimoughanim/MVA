{
 "cells": [
  {
   "cell_type": "markdown",
   "metadata": {},
   "source": [
    "Wadi Moughanim - Lecture 1 (2023/10/05): Exercise 1.3"
   ]
  },
  {
   "cell_type": "markdown",
   "metadata": {},
   "source": [
    "### Exercise 1.3 (Domains of Attraction: Illustration)"
   ]
  },
  {
   "cell_type": "markdown",
   "metadata": {},
   "source": [
    "\n",
    "### 1. Illustrate the Phenomenon of Weak Convergence\n",
    "Illustrate the phenomenon of weak convergence stated in Fisher and Tippett’s theorem through the convergence of histograms (built from a random sample) of maxima towards histograms of the limit, for a negative shape parameter."
   ]
  },
  {
   "cell_type": "markdown",
   "metadata": {},
   "source": [
    "---\n",
    "- **Choose a Distribution:** Choose a textbook distribution F in the Weibull domain of attraction and find appropriate norming sequences an, bn such that (MDA) holds."
   ]
  },
  {
   "cell_type": "markdown",
   "metadata": {},
   "source": [
    "We aim to show that the uniform distribution on the interval (0,1) belongs to the Weibull domain of attraction. We consider the cumulative distribution function (CDF) of $U(0,1)$,\n",
    "\n",
    "$$\n",
    "F_{\\text{unif}}(x) = x \\cdot \\mathbb{1}_{(0,1)}(x),\n",
    "$$\n",
    "\n",
    "We proceed by choosing sequences $a_n$ and $b_n$ such that \n",
    "\n",
    "$$\n",
    "a_n x + b_n \\to \\infty \\quad \\text{as} \\quad n \\to \\infty.\n",
    "$$\n",
    "\n",
    "Then : \n",
    "\n",
    "$$\n",
    "F^n(a_n x + b_n) = (a_n x + b_n)^n,\n",
    "$$\n",
    "\n",
    "valid for all $x \\leq \\frac{1 - b_n}{a_n}$\n",
    "\n",
    "Let’s choose $b_n = 1$ and allow $a_n$ to be any non-zero sequence and $x<0$:\n",
    "\n",
    "$$\n",
    "F^n(a_n x + b_n) = \\exp\\left(n \\log(1 + a_n x)\\right).\n",
    "$$\n",
    "\n",
    "For a specific choice of $a_n = \\frac{1}{n}$, the expression simplifies to\n",
    "\n",
    "$$\n",
    "F^n\\left(\\frac{x}{n} + 1\\right) \\approx \\exp(x) \\mathbb{1}_{x<0}\n",
    "$$\n",
    "\n",
    "This is a particular case of the Weibull distribution with $\\alpha = -1$. Hence, with the sequences $a_n = \\frac{1}{n}$ and $b_n = 1$."
   ]
  },
  {
   "cell_type": "markdown",
   "metadata": {},
   "source": [
    "- **Write a Short Code:** Write a short code allowing to:\n",
    "    - Generate M blocks of size n of independent random variables distributed according to F and normalize the block maxima.\n",
    "    - Plot a histogram of the M normalized maxima and superimpose the histogram for the limit distribution in a visually illustrative manner.\n"
   ]
  },
  {
   "cell_type": "markdown",
   "metadata": {},
   "source": []
  },
  {
   "cell_type": "markdown",
   "metadata": {},
   "source": [
    "\n",
    "- **Vary M and n:** Let M and n vary so as to illustrate weak convergence of maxima as M → ∞. Explain the role of M and n in what you observe. Summarize the results in a figure including ≈ 6 such histograms with different values of M and a single (appropriate) value of n.\n",
    "\n",
    "### 2. Uniform Convergence of c.d.f’s\n",
    "Show (graphically and numerically) uniform convergence of c.d.f.’s. Explain why (i.e., prove that) weak convergence of normalized maxima indeed implies uniform convergence of c.d.f’s.\n",
    "\n",
    "### 3. Translated Pareto Distribution\n",
    "Change the input distribution and work with a translated Pareto distribution, $ P(X > x) = \\left(\\frac{x - \\beta}{u}\\right)^{\\alpha} $, for some $ \\alpha > 0, \\beta, u \\in \\mathbb{R}, x \\geq u + \\beta $. Draw similar outputs as in the previous questions and compare the rate of convergence.\n",
    "\n",
    "### 4. Estimate the GEV Parameters\n",
    "With the distribution from question 1 or 3, generate a dataset of an appropriate size and estimate the GEV parameters with a maximum-likelihood method. Discuss the convergence towards the true parameters.\n"
   ]
  }
 ],
 "metadata": {
  "kernelspec": {
   "display_name": "Python 3",
   "language": "python",
   "name": "python3"
  },
  "language_info": {
   "codemirror_mode": {
    "name": "ipython",
    "version": 3
   },
   "file_extension": ".py",
   "mimetype": "text/x-python",
   "name": "python",
   "nbconvert_exporter": "python",
   "pygments_lexer": "ipython3",
   "version": "3.9.6"
  },
  "orig_nbformat": 4
 },
 "nbformat": 4,
 "nbformat_minor": 2
}
